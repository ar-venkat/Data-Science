{
 "cells": [
  {
   "cell_type": "markdown",
   "metadata": {},
   "source": [
    "## Exercise 1: Write a function to sort the list based on the first letter of the second element\n",
    "\n",
    "lst=[(19542209, \"New York\") ,(4887871, \"Alabama\"), (1420491, \"Hawaii\"), (626299, \"Vermont\"), (1805832, \"West Virginia\"), (39865590, \"California\")]\n"
   ]
  },
  {
   "cell_type": "code",
   "execution_count": 1,
   "metadata": {},
   "outputs": [
    {
     "name": "stdout",
     "output_type": "stream",
     "text": [
      "Original list: [(19542209, 'New York'), (4887871, 'Alabama'), (1420491, 'Hawaii'), (626299, 'Vermont'), (1805832, 'West Virginia'), (39865590, 'California')]\n",
      "Sorted list: [(4887871, 'Alabama'), (39865590, 'California'), (1420491, 'Hawaii'), (19542209, 'New York'), (626299, 'Vermont'), (1805832, 'West Virginia')]\n"
     ]
    }
   ],
   "source": []
  },
  {
   "cell_type": "code",
   "execution_count": 36,
   "metadata": {},
   "outputs": [
    {
     "name": "stdout",
     "output_type": "stream",
     "text": [
      "Original List:  [(19542209, 'New York'), (4887871, 'Alabama'), (1420491, 'Hawaii'), (626299, 'Vermont'), (1805832, 'West Virginia'), (39865590, 'California')]\n",
      "\n",
      "Sorted List: [(4887871, 'Alabama'), (39865590, 'California'), (1420491, 'Hawaii'), (19542209, 'New York'), (626299, 'Vermont'), (1805832, 'West Virginia')]\n"
     ]
    }
   ],
   "source": [
    "lst1=[(19542209, \"New York\") ,(4887871, \"Alabama\"), (1420491, \"Hawaii\"), (626299, \"Vermont\"), (1805832, \"West Virginia\"), (39865590, \"California\")]\n",
    "print(\"Original List: \", lst1)\n",
    "# Used Sorted function instead of list.sort() method as it accepts any iterable\n",
    "lst2 = sorted(lst1, key=lambda s: s[1])\n",
    "print(\"\\nSorted List:\", lst2)"
   ]
  },
  {
   "cell_type": "markdown",
   "metadata": {},
   "source": [
    "## Exercise 2:  Write a function to sort the list based on the last letter of the second element\n",
    "\n",
    "Use list from previous question"
   ]
  },
  {
   "cell_type": "code",
   "execution_count": 2,
   "metadata": {},
   "outputs": [
    {
     "name": "stdout",
     "output_type": "stream",
     "text": [
      "Original list [(19542209, 'New York'), (4887871, 'Alabama'), (1420491, 'Hawaii'), (626299, 'Vermont'), (1805832, 'West Virginia'), (39865590, 'California')]\n",
      "Sorted list [(4887871, 'Alabama'), (1805832, 'West Virginia'), (39865590, 'California'), (1420491, 'Hawaii'), (19542209, 'New York'), (626299, 'Vermont')]\n"
     ]
    }
   ],
   "source": []
  },
  {
   "cell_type": "code",
   "execution_count": 40,
   "metadata": {},
   "outputs": [
    {
     "name": "stdout",
     "output_type": "stream",
     "text": [
      "Original List:  [(19542209, 'New York'), (4887871, 'Alabama'), (1420491, 'Hawaii'), (626299, 'Vermont'), (1805832, 'West Virginia'), (39865590, 'California')]\n",
      "\n",
      "Sorted List: [(4887871, 'Alabama'), (1805832, 'West Virginia'), (39865590, 'California'), (1420491, 'Hawaii'), (19542209, 'New York'), (626299, 'Vermont')]\n"
     ]
    }
   ],
   "source": [
    "lst1=[(19542209, \"New York\") ,(4887871, \"Alabama\"), (1420491, \"Hawaii\"), (626299, \"Vermont\"), (1805832, \"West Virginia\"), (39865590, \"California\")]\n",
    "print(\"Original List: \", lst1)\n",
    "# Used Sorted function instead of list.sort() method as it accepts any iterable\n",
    "lst3 = sorted(lst1, key=lambda s: s[1][-1], reverse=False)\n",
    "print(\"\\nSorted List:\", lst3)"
   ]
  },
  {
   "cell_type": "markdown",
   "metadata": {},
   "source": [
    "## Exercise 3: Create a range from 1 to 8 merge the given list and together to create a new list of tuples.\n",
    "\n",
    "lst1=[\"Energy\", \"Agriculture\", \"Industry\", \"Technology\", \"Finance\", \"Forestry\", \"Transport\"]"
   ]
  },
  {
   "cell_type": "code",
   "execution_count": 3,
   "metadata": {},
   "outputs": [
    {
     "name": "stdout",
     "output_type": "stream",
     "text": [
      "[('Energy', 1), ('Agriculture', 2), ('Industry', 3), ('Technology', 4), ('Finance', 5), ('Forestry', 6), ('Transport', 7)]\n"
     ]
    }
   ],
   "source": []
  },
  {
   "cell_type": "code",
   "execution_count": 29,
   "metadata": {},
   "outputs": [
    {
     "name": "stdout",
     "output_type": "stream",
     "text": [
      "[('Energy', 1), ('Agriculture', 2), ('Industry', 3), ('Technology', 4), ('Finance', 5), ('Forestry', 6), ('Transport', 7)]\n"
     ]
    }
   ],
   "source": [
    "lst1=[\"Energy\", \"Agriculture\", \"Industry\", \"Technology\", \"Finance\", \"Forestry\", \"Transport\"]\n",
    "lst2=[1,2,3,4,5,6,7,8]\n",
    "\n",
    "new_list=list(map(lambda x,y:(x,y),lst1,lst2))\n",
    "print(new_list)"
   ]
  },
  {
   "cell_type": "markdown",
   "metadata": {},
   "source": [
    "## Exercise 4: Write a function and create a list consisted of the number of occurence of letter: a (all a's).\n",
    "\n",
    "lst1=[\"Antartica\", \"America\", \"Armania\", \"Australia\", \"Albania\", \"Afganistan\",\"Alaska\"]"
   ]
  },
  {
   "cell_type": "code",
   "execution_count": 4,
   "metadata": {},
   "outputs": [
    {
     "name": "stdout",
     "output_type": "stream",
     "text": [
      "[3, 2, 3, 3, 3, 3, 3]\n"
     ]
    }
   ],
   "source": []
  },
  {
   "cell_type": "code",
   "execution_count": 33,
   "metadata": {},
   "outputs": [
    {
     "name": "stdout",
     "output_type": "stream",
     "text": [
      "[3, 2, 3, 3, 3, 3, 3]\n"
     ]
    }
   ],
   "source": [
    "lst1=[\"Antartica\", \"America\", \"Armania\", \"Australia\", \"Albania\", \"Afganistan\",\"Alaska\"]\n",
    "count1=list(map(lambda x: x.lower().count('a'),lst1))\n",
    "print(count1)"
   ]
  },
  {
   "cell_type": "markdown",
   "metadata": {},
   "source": [
    "## Exercise 5: Write a function filter all the vowels in a given string using filter.\n",
    "\n",
    "str1=\"Inceptz is one of the best institutes to read data science in chennai\""
   ]
  },
  {
   "cell_type": "code",
   "execution_count": 5,
   "metadata": {},
   "outputs": [
    {
     "name": "stdout",
     "output_type": "stream",
     "text": [
      "['I', 'e', 'i', 'o', 'e', 'o', 'e', 'e', 'i', 'i', 'u', 'e', 'o', 'e', 'a', 'a', 'a', 'i', 'e', 'e', 'i', 'e', 'a', 'i']\n"
     ]
    }
   ],
   "source": []
  },
  {
   "cell_type": "code",
   "execution_count": 39,
   "metadata": {},
   "outputs": [
    {
     "name": "stdout",
     "output_type": "stream",
     "text": [
      "['I', 'e', 'i', 'o', 'e', 'o', 'e', 'e', 'i', 'i', 'u', 'e', 'o', 'e', 'a', 'a', 'a', 'i', 'e', 'e', 'i', 'e', 'a', 'i']\n"
     ]
    }
   ],
   "source": [
    "str1=\"Inceptz is one of the best institutes to read data science in chennai\"\n",
    "vowels = ['A','E','I','O','U']    \n",
    "all_vowels = list(filter(lambda x: True if x.upper() in vowels else False, str1))\n",
    "print(all_vowels)"
   ]
  },
  {
   "cell_type": "markdown",
   "metadata": {},
   "source": [
    "## Exercise 6:  Write a function to create a list as the square of elements from the given list if the square is greater than 60\n",
    "\n",
    "lst1=[5, 6, 7 , 8, 9, 10, 12, 14]"
   ]
  },
  {
   "cell_type": "code",
   "execution_count": 6,
   "metadata": {},
   "outputs": [
    {
     "name": "stdout",
     "output_type": "stream",
     "text": [
      "[64, 81, 100, 144, 196]\n"
     ]
    }
   ],
   "source": []
  },
  {
   "cell_type": "code",
   "execution_count": 37,
   "metadata": {},
   "outputs": [
    {
     "name": "stdout",
     "output_type": "stream",
     "text": [
      "[64, 81, 100, 144, 196]\n"
     ]
    }
   ],
   "source": [
    "lst1=[5, 6, 7 , 8, 9, 10, 12, 14]\n",
    "# Calculate the square value of each element in the list\n",
    "num1=list(map(lambda x: x*x,lst1))\n",
    "# Filter the list whose value is > 60\n",
    "num2=list(filter(lambda y: True if y>60 else False, num1))\n",
    "print(num2)\n"
   ]
  },
  {
   "cell_type": "markdown",
   "metadata": {},
   "source": [
    "## Exercise 7: take the words given below as list and write a function and use reduce to make it a sentence\n",
    "Inceptz \n",
    "\n",
    "provides\n",
    "\n",
    "the\n",
    "\n",
    "best\n",
    "\n",
    "inclass \n",
    "\n",
    "trainings \n",
    "\n",
    "and\n",
    "\n",
    "is \n",
    "\n",
    "the \n",
    "\n",
    "best\n"
   ]
  },
  {
   "cell_type": "code",
   "execution_count": 7,
   "metadata": {},
   "outputs": [
    {
     "data": {
      "text/plain": [
       "'Inceptez provides the best inclass trainings and is the best'"
      ]
     },
     "execution_count": 7,
     "metadata": {},
     "output_type": "execute_result"
    }
   ],
   "source": []
  },
  {
   "cell_type": "code",
   "execution_count": 4,
   "metadata": {},
   "outputs": [
    {
     "data": {
      "text/plain": [
       "'Inceptz provides the best inclass trainings and is the best'"
      ]
     },
     "execution_count": 4,
     "metadata": {},
     "output_type": "execute_result"
    }
   ],
   "source": [
    "#Import the reduce lib from functools\n",
    "from functools import reduce \n",
    "lst1 = ['Inceptz','provides','the','best','inclass','trainings','and','is','the','best']\n",
    "# Define a function to concatenate the words\n",
    "def concat(word1,word2):\n",
    "    return word1 + \" \" + word2\n",
    "# Use reduce to produce the output\n",
    "reduce(concat,lst1)"
   ]
  },
  {
   "cell_type": "code",
   "execution_count": null,
   "metadata": {},
   "outputs": [],
   "source": []
  }
 ],
 "metadata": {
  "kernelspec": {
   "display_name": "Python 3",
   "language": "python",
   "name": "python3"
  },
  "language_info": {
   "codemirror_mode": {
    "name": "ipython",
    "version": 3
   },
   "file_extension": ".py",
   "mimetype": "text/x-python",
   "name": "python",
   "nbconvert_exporter": "python",
   "pygments_lexer": "ipython3",
   "version": "3.8.5"
  }
 },
 "nbformat": 4,
 "nbformat_minor": 2
}
